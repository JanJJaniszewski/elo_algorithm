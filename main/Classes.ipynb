{
 "cells": [
  {
   "cell_type": "code",
   "execution_count": null,
   "metadata": {
    "collapsed": true
   },
   "outputs": [],
   "source": [
    "class question:\n",
    "    def __init__(self, question, answer1, answer2, answer3, answer4, difficulty):\n",
    "        self.question = question\n",
    "        self.answer1 = answer1\n",
    "        self.answer2 = answer2\n",
    "        self.answer3 = answer3\n",
    "        self.answer4 = answer4\n",
    "        self.difficulty = difficulty        \n",
    "    \n",
    "    \n",
    "    def __str__(self):\n",
    "        return 'Question: {}, A1: {}, A2: {}, A3: {}, A4: {}, Diff: {}'.format(self.question, self.answer1, \n",
    "                                                                               self.answer2, self.answer3,\n",
    "                                                                               self.answer4, self.difficulty)\n",
    "\n",
    "\n",
    "class player:\n",
    "    def __init__(self, nick, password, points, last):\n",
    "        self.nick = nick\n",
    "        self.password = password\n",
    "        self.points = points\n",
    "        \n",
    "    \n",
    "    def __str__(self):\n",
    "        return 'Nick: {}, Points: {}'.format(self.nick, self.points)\n",
    "    \n",
    "    \n",
    "    def get_question():        \n",
    "        pass"
   ]
  }
 ],
 "metadata": {
  "kernelspec": {
   "display_name": "Python [Root]",
   "language": "python",
   "name": "Python [Root]"
  },
  "language_info": {
   "codemirror_mode": {
    "name": "ipython",
    "version": 3
   },
   "file_extension": ".py",
   "mimetype": "text/x-python",
   "name": "python",
   "nbconvert_exporter": "python",
   "pygments_lexer": "ipython3",
   "version": "3.5.2"
  }
 },
 "nbformat": 4,
 "nbformat_minor": 0
}
